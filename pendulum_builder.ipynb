{
 "cells": [
  {
   "cell_type": "code",
   "execution_count": 7,
   "id": "fecbe85c",
   "metadata": {},
   "outputs": [],
   "source": [
    "import sympy as sym\n",
    "import numpy as np\n",
    "import pydae.build_cffi as cbuilder"
   ]
  },
  {
   "cell_type": "code",
   "execution_count": 10,
   "id": "8760feca",
   "metadata": {},
   "outputs": [
    {
     "name": "stdout",
     "output_type": "stream",
     "text": [
      "system without algebraic equations, adding dummy algebraic equation\n"
     ]
    }
   ],
   "source": [
    "theta,omega,u = sym.symbols('theta,omega,u', real=True)\n",
    "G,M,L = sym.symbols('G,M,L', real=True)\n",
    "\n",
    "dtheta = omega\n",
    "domega = (3 * G / (2 * L) * sym.sin(theta) + 3.0 / (M * L**2) * u) \n",
    "\n",
    "x_list = [ theta, omega]\n",
    "f_list = [dtheta,domega]\n",
    "\n",
    "params_dict = {'G':9.8,'M':1,'L':1}\n",
    "u_dict = {'u':0.0}\n",
    "h_dict = {'x_pos':sym.cos(theta),'y_pos':sym.sin(theta)}\n",
    "\n",
    "#    | Num | Observation      | Min  | Max |\n",
    "#    |-----|------------------|------|-----|\n",
    "#    | 0   | x = cos(theta)   | -1.0 | 1.0 |\n",
    "#    | 1   | y = sin(angle)   | -1.0 | 1.0 |\n",
    "#    | 2   | Angular Velocity | -8.0 | 8.0 |\n",
    "\n",
    "sys = {'name':'pendulum',\n",
    "       'params_dict':params_dict,\n",
    "       'f_list':f_list,\n",
    "       'g_list':[],\n",
    "       'x_list':x_list,\n",
    "       'y_ini_list':[],\n",
    "       'y_run_list':[],\n",
    "       'u_run_dict':u_dict,\n",
    "       'u_ini_dict':u_dict,\n",
    "       'h_dict':h_dict}\n",
    "\n",
    "bldr = cbuilder.builder(sys)\n",
    "bldr.build()"
   ]
  },
  {
   "cell_type": "code",
   "execution_count": null,
   "id": "cba33df8",
   "metadata": {},
   "outputs": [],
   "source": [
    "        th, thdot = self.state  # th := theta\n",
    "\n",
    "        g = self.g\n",
    "        m = self.m\n",
    "        l = self.l\n",
    "        dt = self.dt\n",
    "\n",
    "        u = np.clip(u, -self.max_torque, self.max_torque)[0]\n",
    "        self.last_u = u  # for rendering\n",
    "        costs = angle_normalize(th) ** 2 + 0.1 * thdot**2 + 0.001 * (u**2)\n",
    "\n",
    "        newthdot = thdot + (3 * g / (2 * l) * np.sin(th) + 3.0 / (m * l**2) * u) * dt\n",
    "        newthdot = np.clip(newthdot, -self.max_speed, self.max_speed)\n",
    "        newth = th + newthdot * dt\n",
    "\n",
    "        self.state = np.array([newth, newthdot])\n",
    "        return self._get_obs(), -costs, False, {}"
   ]
  },
  {
   "cell_type": "code",
   "execution_count": null,
   "id": "b0d5b941",
   "metadata": {},
   "outputs": [],
   "source": []
  }
 ],
 "metadata": {
  "kernelspec": {
   "display_name": "Python 3 (ipykernel)",
   "language": "python",
   "name": "python3"
  },
  "language_info": {
   "codemirror_mode": {
    "name": "ipython",
    "version": 3
   },
   "file_extension": ".py",
   "mimetype": "text/x-python",
   "name": "python",
   "nbconvert_exporter": "python",
   "pygments_lexer": "ipython3",
   "version": "3.9.7"
  }
 },
 "nbformat": 4,
 "nbformat_minor": 5
}

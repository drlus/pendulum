{
 "cells": [
  {
   "cell_type": "code",
   "execution_count": 113,
   "id": "11162c8a",
   "metadata": {},
   "outputs": [],
   "source": [
    "import numpy as np\n",
    "\n",
    "from typing import Optional\n",
    "from os import path\n",
    "\n",
    "import numpy as np\n",
    "\n",
    "\n",
    "import gym\n",
    "from gym import spaces\n",
    "from gym.utils import seeding\n",
    "\n",
    "import pendulum\n",
    "\n",
    "\n",
    "class PendulumEnv(gym.Env):\n",
    "    metadata = {\"render.modes\": [\"human\", \"rgb_array\"], \"video.frames_per_second\": 30}\n",
    "\n",
    "    def __init__(self, g=10.0):\n",
    "        self.max_speed = 8\n",
    "        self.max_torque = 2.0\n",
    "        self.dt = 0.05\n",
    "        self.g = g\n",
    "        self.m = 1.0\n",
    "        self.l = 1.0\n",
    "        self.viewer = None\n",
    "\n",
    "        high = np.array([1.0, 1.0, self.max_speed], dtype=np.float32)\n",
    "        self.action_space = spaces.Box(\n",
    "            low=-self.max_torque, high=self.max_torque, shape=(1,), dtype=np.float32\n",
    "        )\n",
    "        self.observation_space = spaces.Box(low=-high, high=high, dtype=np.float32)\n",
    "\n",
    "        self.seed()\n",
    "\n",
    "    def seed(self, seed=None):\n",
    "        self.np_random, seed = seeding.np_random(seed)\n",
    "        return [seed]\n",
    "\n",
    "    def step(self, u):\n",
    "        th, thdot = self.state  # th := theta\n",
    "\n",
    "        g = self.g\n",
    "        m = self.m\n",
    "        l = self.l\n",
    "        dt = self.dt\n",
    "\n",
    "        u = np.clip(u, -self.max_torque, self.max_torque)[0]\n",
    "        self.last_u = u  # for rendering\n",
    "        costs = angle_normalize(th) ** 2 + 0.1 * thdot ** 2 + 0.001 * (u ** 2)\n",
    "\n",
    "        newthdot = thdot + (3 * g / (2 * l) * np.sin(th) + 3.0 / (m * l ** 2) * u) * dt\n",
    "        newthdot = np.clip(newthdot, -self.max_speed, self.max_speed)\n",
    "        newth = th + newthdot * dt\n",
    "\n",
    "        self.state = np.array([newth, newthdot])\n",
    "        return self._get_obs(), -costs, False, {}\n",
    "\n",
    "    def reset(self):\n",
    "        high = np.array([np.pi, 1])\n",
    "        self.state = self.np_random.uniform(low=-high, high=high)\n",
    "        self.state = np.array([1.0,0.0])\n",
    "\n",
    "        self.last_u = None\n",
    "        return self._get_obs()\n",
    "\n",
    "    def _get_obs(self):\n",
    "        theta, thetadot = self.state\n",
    "        return np.array([np.cos(theta), np.sin(theta), thetadot], dtype=np.float32)\n",
    "\n",
    "    def render(self, mode=\"human\"):\n",
    "        if self.viewer is None:\n",
    "            from gym.envs.classic_control import rendering\n",
    "\n",
    "            self.viewer = rendering.Viewer(500, 500)\n",
    "            self.viewer.set_bounds(-2.2, 2.2, -2.2, 2.2)\n",
    "            rod = rendering.make_capsule(1, 0.2)\n",
    "            rod.set_color(0.8, 0.3, 0.3)\n",
    "            self.pole_transform = rendering.Transform()\n",
    "            rod.add_attr(self.pole_transform)\n",
    "            self.viewer.add_geom(rod)\n",
    "            axle = rendering.make_circle(0.05)\n",
    "            axle.set_color(0, 0, 0)\n",
    "            self.viewer.add_geom(axle)\n",
    "            fname = path.join(path.dirname(__file__), \"assets/clockwise.png\")\n",
    "            self.img = rendering.Image(fname, 1.0, 1.0)\n",
    "            self.imgtrans = rendering.Transform()\n",
    "            self.img.add_attr(self.imgtrans)\n",
    "\n",
    "        self.viewer.add_onetime(self.img)\n",
    "        self.pole_transform.set_rotation(self.state[0] + np.pi / 2)\n",
    "        if self.last_u is not None:\n",
    "            self.imgtrans.scale = (-self.last_u / 2, np.abs(self.last_u) / 2)\n",
    "\n",
    "        return self.viewer.render(return_rgb_array=mode == \"rgb_array\")\n",
    "\n",
    "    def close(self):\n",
    "        if self.viewer:\n",
    "            self.viewer.close()\n",
    "            self.viewer = None\n",
    "\n",
    "\n",
    "def angle_normalize(x):\n",
    "    return ((x + np.pi) % (2 * np.pi)) - np.pi\n",
    "\n",
    "\n"
   ]
  },
  {
   "cell_type": "code",
   "execution_count": 114,
   "id": "3d025503",
   "metadata": {},
   "outputs": [],
   "source": [
    "class PendulumDAEEnv(gym.Env):\n",
    "    metadata = {\"render.modes\": [\"human\", \"rgb_array\"], \"video.frames_per_second\": 30}\n",
    "\n",
    "    def __init__(self, g=10.0):\n",
    "        self.max_speed = 8\n",
    "        self.max_torque = 2.0\n",
    "        self.dt = 0.05\n",
    "        self.g = g\n",
    "        self.m = 1.0\n",
    "        self.l = 1.0\n",
    "        self.viewer = None\n",
    "\n",
    "        high = np.array([1.0, 1.0, self.max_speed], dtype=np.float32)\n",
    "        self.action_space = spaces.Box(\n",
    "            low=-self.max_torque, high=self.max_torque, shape=(1,), dtype=np.float32\n",
    "        )\n",
    "        self.observation_space = spaces.Box(low=-high, high=high, dtype=np.float32)\n",
    "\n",
    "        self.seed()\n",
    "        \n",
    "        self.dae = pendulum.model()\n",
    "        self.dae.Dt = self.dt\n",
    "\n",
    "    def seed(self, seed=None):\n",
    "        self.np_random, seed = seeding.np_random(seed)\n",
    "        return [seed]\n",
    "\n",
    "    def step(self, u):\n",
    "        th, thdot = self.state  # th := theta\n",
    "\n",
    "        g = self.g\n",
    "        m = self.m\n",
    "        l = self.l\n",
    "        dt = self.dt\n",
    "        self.t += dt\n",
    "\n",
    "        u = np.clip(u, -self.max_torque, self.max_torque)[0]\n",
    "        self.last_u = u  # for rendering\n",
    "        costs = angle_normalize(th) ** 2 + 0.1 * thdot ** 2 + 0.001 * (u ** 2)\n",
    "\n",
    "        #newthdot = thdot + (3 * g / (2 * l) * np.sin(th) + 3.0 / (m * l**2) * u) * dt\n",
    "        #newthdot = np.clip(newthdot, -self.max_speed, self.max_speed)\n",
    "        #newth = th + newthdot * dt\n",
    "        \n",
    "        self.dae.run(self.t,{'u':u,'M':self.m,'G':self.g})\n",
    "        \n",
    "\n",
    "        #self.state = np.array([newth, newthdot])\n",
    "        self.state = self.dae.get_mvalue(['theta','omega'])\n",
    "        \n",
    "        return self._get_obs(), -costs, False, {}\n",
    "\n",
    "    def reset(self):\n",
    "        high = np.array([np.pi, 1])\n",
    "        #self.state = self.np_random.uniform(low=-high, high=high)\n",
    "        self.state = np.array([1.0,0.0])\n",
    "        self.last_u = None\n",
    "        \n",
    "        self.dae.ini({})    \n",
    "        \n",
    "        \n",
    "        self.dae.xy[:2] = self.state\n",
    "        self.t = 0.0 \n",
    "        \n",
    "        \n",
    "        return self._get_obs()\n",
    "    \n",
    "\n",
    "\n",
    "    def _get_obs(self):\n",
    "        theta, thetadot = self.state\n",
    "        return np.array([np.cos(theta), np.sin(theta), thetadot], dtype=np.float32)\n",
    "\n",
    "    def render(self, mode=\"human\"):\n",
    "        if self.viewer is None:\n",
    "            from gym.envs.classic_control import rendering\n",
    "\n",
    "            self.viewer = rendering.Viewer(500, 500)\n",
    "            self.viewer.set_bounds(-2.2, 2.2, -2.2, 2.2)\n",
    "            rod = rendering.make_capsule(1, 0.2)\n",
    "            rod.set_color(0.8, 0.3, 0.3)\n",
    "            self.pole_transform = rendering.Transform()\n",
    "            rod.add_attr(self.pole_transform)\n",
    "            self.viewer.add_geom(rod)\n",
    "            axle = rendering.make_circle(0.05)\n",
    "            axle.set_color(0, 0, 0)\n",
    "            self.viewer.add_geom(axle)\n",
    "            fname = path.join(path.dirname(__file__), \"assets/clockwise.png\")\n",
    "            self.img = rendering.Image(fname, 1.0, 1.0)\n",
    "            self.imgtrans = rendering.Transform()\n",
    "            self.img.add_attr(self.imgtrans)\n",
    "\n",
    "        self.viewer.add_onetime(self.img)\n",
    "        self.pole_transform.set_rotation(self.state[0] + np.pi / 2)\n",
    "        if self.last_u is not None:\n",
    "            self.imgtrans.scale = (-self.last_u / 2, np.abs(self.last_u) / 2)\n",
    "\n",
    "        return self.viewer.render(return_rgb_array=mode == \"rgb_array\")\n",
    "\n",
    "    def close(self):\n",
    "        \n",
    "        self.dae.post()\n",
    "        if self.viewer:\n",
    "            self.viewer.close()\n",
    "            self.viewer = None\n",
    "\n",
    "\n",
    "def angle_normalize(x):\n",
    "    return ((x + np.pi) % (2 * np.pi)) - np.pi\n",
    "\n",
    "\n",
    "\n",
    "\n",
    "\n",
    "\n",
    "def angle_normalize(x):\n",
    "    return ((x + np.pi) % (2 * np.pi)) - np.pi\n"
   ]
  },
  {
   "cell_type": "code",
   "execution_count": 115,
   "id": "0bcdd460",
   "metadata": {},
   "outputs": [],
   "source": [
    "gym_pendulum = PendulumEnv()\n",
    "\n",
    "dae_pendulum = PendulumDAEEnv()\n"
   ]
  },
  {
   "cell_type": "code",
   "execution_count": 116,
   "id": "3dd10498",
   "metadata": {},
   "outputs": [
    {
     "data": {
      "text/plain": [
       "array([0.5403023 , 0.84147096, 0.        ], dtype=float32)"
      ]
     },
     "execution_count": 116,
     "metadata": {},
     "output_type": "execute_result"
    }
   ],
   "source": [
    "gym_pendulum.reset()"
   ]
  },
  {
   "cell_type": "code",
   "execution_count": 117,
   "id": "73c28ada",
   "metadata": {},
   "outputs": [
    {
     "data": {
      "text/plain": [
       "array([0.5403023 , 0.84147096, 0.        ], dtype=float32)"
      ]
     },
     "execution_count": 117,
     "metadata": {},
     "output_type": "execute_result"
    }
   ],
   "source": [
    "dae_pendulum.reset()"
   ]
  },
  {
   "cell_type": "code",
   "execution_count": 118,
   "id": "607b11a3",
   "metadata": {},
   "outputs": [],
   "source": [
    "times = np.arange(0,100,0.5)"
   ]
  },
  {
   "cell_type": "code",
   "execution_count": 119,
   "id": "6b26f06a",
   "metadata": {},
   "outputs": [],
   "source": [
    "#%%timeit\n",
    "gym_pendulum.reset()\n",
    "\n",
    "gym_state_list = []\n",
    "for t in times:\n",
    "    gym_pendulum.step(np.array([0.1]))\n",
    "    gym_state_list += [gym_pendulum.state]"
   ]
  },
  {
   "cell_type": "code",
   "execution_count": 120,
   "id": "b3418d5d",
   "metadata": {},
   "outputs": [],
   "source": [
    "#%%timeit\n",
    "dae_pendulum.reset()\n",
    "\n",
    "dae_state_list = []\n",
    "for t in times:\n",
    "    dae_pendulum.step(np.array([0.1]))\n",
    "    #print(dae_pendulum.state)\n",
    "    dae_state_list += [dae_pendulum.state]"
   ]
  },
  {
   "cell_type": "code",
   "execution_count": 121,
   "id": "50136a3a",
   "metadata": {},
   "outputs": [
    {
     "data": {
      "text/plain": [
       "[<matplotlib.lines.Line2D at 0x199e10f77f0>]"
      ]
     },
     "execution_count": 121,
     "metadata": {},
     "output_type": "execute_result"
    },
    {
     "data": {
      "image/png": "[encoded data removed]",
      "text/plain": [
       "<Figure size 432x288 with 2 Axes>"
      ]
     },
     "metadata": {
      "needs_background": "light"
     },
     "output_type": "display_data"
    }
   ],
   "source": [
    "import matplotlib.pyplot as plt\n",
    "fig, axes = plt.subplots(nrows=2)\n",
    "axes[0].plot([item[0] for item in  gym_state_list])\n",
    "axes[0].plot([item[0] for item in  dae_state_list])\n",
    "#axes[1].plot([item[2] for item in  s_list])"
   ]
  },
  {
   "cell_type": "code",
   "execution_count": null,
   "id": "8725a3dc",
   "metadata": {},
   "outputs": [],
   "source": []
  },
  {
   "cell_type": "code",
   "execution_count": null,
   "id": "3488c309",
   "metadata": {},
   "outputs": [],
   "source": []
  }
 ],
 "metadata": {
  "kernelspec": {
   "display_name": "Python 3 (ipykernel)",
   "language": "python",
   "name": "python3"
  },
  "language_info": {
   "codemirror_mode": {
    "name": "ipython",
    "version": 3
   },
   "file_extension": ".py",
   "mimetype": "text/x-python",
   "name": "python",
   "nbconvert_exporter": "python",
   "pygments_lexer": "ipython3",
   "version": "3.9.7"
  }
 },
 "nbformat": 4,
 "nbformat_minor": 5
}

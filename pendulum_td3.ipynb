{
 "cells": [
  {
   "cell_type": "code",
   "execution_count": 2,
   "id": "477916c3-0b81-4728-8af1-92b07e9c40c3",
   "metadata": {},
   "outputs": [],
   "source": [
    "import gym\n",
    "import numpy as np"
   ]
  },
  {
   "cell_type": "code",
   "execution_count": 4,
   "id": "d6d3dd60-90e1-4cbd-8804-8aed9ef5b5c2",
   "metadata": {},
   "outputs": [],
   "source": [
    "#gym.envs.register(\n",
    "#     id='PendulumDAEEnv-v0',\n",
    "#     entry_point='pendulum.envs:PendulumDAEEnv',\n",
    "#     max_episode_steps=150\n",
    "#)\n",
    "import pendulum\n",
    "#env = gym.make('Pendulum-v1')\n",
    "env = gym.make('PendulumDAE-v0')"
   ]
  },
  {
   "cell_type": "code",
   "execution_count": 5,
   "id": "c71903fd-a5c7-4a79-af08-fa46ca8b1369",
   "metadata": {},
   "outputs": [
    {
     "data": {
      "text/plain": [
       "array([-0.55630577, -0.8309777 ,  0.70490766], dtype=float32)"
      ]
     },
     "execution_count": 5,
     "metadata": {},
     "output_type": "execute_result"
    }
   ],
   "source": [
    "env.reset()"
   ]
  },
  {
   "cell_type": "code",
   "execution_count": 6,
   "id": "c169e9d4-6642-4ae0-9bdc-99aeef3dff85",
   "metadata": {},
   "outputs": [
    {
     "data": {
      "text/plain": [
       "(array([-0.5399382 , -0.84170467,  0.07660163], dtype=float32),\n",
       " -4.718442973667043,\n",
       " False,\n",
       " {})"
      ]
     },
     "execution_count": 6,
     "metadata": {},
     "output_type": "execute_result"
    }
   ],
   "source": [
    "env.step(np.array([0]))"
   ]
  },
  {
   "cell_type": "code",
   "execution_count": 7,
   "id": "93b425f7-8640-4a32-b37f-732ce02eab6e",
   "metadata": {},
   "outputs": [
    {
     "data": {
      "text/plain": [
       "(array([-0.55507886, -0.8317977 , -0.6782971 ], dtype=float32),\n",
       " -4.585152903677325,\n",
       " False,\n",
       " {})"
      ]
     },
     "execution_count": 7,
     "metadata": {},
     "output_type": "execute_result"
    }
   ],
   "source": [
    "env.step(np.array([0]))"
   ]
  },
  {
   "cell_type": "code",
   "execution_count": 8,
   "id": "0366978a-5412-41de-bc74-2f122db5d2e3",
   "metadata": {},
   "outputs": [
    {
     "ename": "ModuleNotFoundError",
     "evalue": "jax requires jaxlib to be installed. See https://github.com/google/jax#installation for installation instructions.",
     "output_type": "error",
     "traceback": [
      "\u001b[1;31m-----------------------------------------------------------------------\u001b[0m",
      "\u001b[1;31mModuleNotFoundError\u001b[0m                   Traceback (most recent call last)",
      "\u001b[1;32m~\\anaconda3\\lib\\site-packages\\jax\\_src\\lib\\__init__.py\u001b[0m in \u001b[0;36m<module>\u001b[1;34m\u001b[0m\n\u001b[0;32m     51\u001b[0m \u001b[1;32mtry\u001b[0m\u001b[1;33m:\u001b[0m\u001b[1;33m\u001b[0m\u001b[1;33m\u001b[0m\u001b[0m\n\u001b[1;32m---> 52\u001b[1;33m   \u001b[1;32mimport\u001b[0m \u001b[0mjaxlib\u001b[0m \u001b[1;32mas\u001b[0m \u001b[0mjaxlib\u001b[0m\u001b[1;33m\u001b[0m\u001b[1;33m\u001b[0m\u001b[0m\n\u001b[0m\u001b[0;32m     53\u001b[0m \u001b[1;32mexcept\u001b[0m \u001b[0mModuleNotFoundError\u001b[0m \u001b[1;32mas\u001b[0m \u001b[0merr\u001b[0m\u001b[1;33m:\u001b[0m\u001b[1;33m\u001b[0m\u001b[1;33m\u001b[0m\u001b[0m\n",
      "\u001b[1;31mModuleNotFoundError\u001b[0m: No module named 'jaxlib'",
      "\nThe above exception was the direct cause of the following exception:\n",
      "\u001b[1;31mModuleNotFoundError\u001b[0m                   Traceback (most recent call last)",
      "\u001b[1;32m~\\AppData\\Local\\Temp/ipykernel_40172/153226855.py\u001b[0m in \u001b[0;36m<module>\u001b[1;34m\u001b[0m\n\u001b[0;32m      1\u001b[0m \u001b[1;32mimport\u001b[0m \u001b[0mgym\u001b[0m\u001b[1;33m\u001b[0m\u001b[1;33m\u001b[0m\u001b[0m\n\u001b[1;32m----> 2\u001b[1;33m \u001b[1;32mimport\u001b[0m \u001b[0mjax\u001b[0m\u001b[1;33m\u001b[0m\u001b[1;33m\u001b[0m\u001b[0m\n\u001b[0m\u001b[0;32m      3\u001b[0m \u001b[1;32mimport\u001b[0m \u001b[0mcoax\u001b[0m\u001b[1;33m\u001b[0m\u001b[1;33m\u001b[0m\u001b[0m\n\u001b[0;32m      4\u001b[0m \u001b[1;32mimport\u001b[0m \u001b[0mhaiku\u001b[0m \u001b[1;32mas\u001b[0m \u001b[0mhk\u001b[0m\u001b[1;33m\u001b[0m\u001b[1;33m\u001b[0m\u001b[0m\n\u001b[0;32m      5\u001b[0m \u001b[1;32mimport\u001b[0m \u001b[0mjax\u001b[0m\u001b[1;33m.\u001b[0m\u001b[0mnumpy\u001b[0m \u001b[1;32mas\u001b[0m \u001b[0mjnp\u001b[0m\u001b[1;33m\u001b[0m\u001b[1;33m\u001b[0m\u001b[0m\n",
      "\u001b[1;32m~\\anaconda3\\lib\\site-packages\\jax\\__init__.py\u001b[0m in \u001b[0;36m<module>\u001b[1;34m\u001b[0m\n\u001b[0;32m     35\u001b[0m \u001b[1;31m# We want the exported object to be the class, so we first import the module\u001b[0m\u001b[1;33m\u001b[0m\u001b[1;33m\u001b[0m\u001b[0m\n\u001b[0;32m     36\u001b[0m \u001b[1;31m# to make sure a later import doesn't overwrite the class.\u001b[0m\u001b[1;33m\u001b[0m\u001b[1;33m\u001b[0m\u001b[0m\n\u001b[1;32m---> 37\u001b[1;33m \u001b[1;32mfrom\u001b[0m \u001b[0mjax\u001b[0m \u001b[1;32mimport\u001b[0m \u001b[0mconfig\u001b[0m \u001b[1;32mas\u001b[0m \u001b[0m_config_module\u001b[0m\u001b[1;33m\u001b[0m\u001b[1;33m\u001b[0m\u001b[0m\n\u001b[0m\u001b[0;32m     38\u001b[0m \u001b[1;32mdel\u001b[0m \u001b[0m_config_module\u001b[0m\u001b[1;33m\u001b[0m\u001b[1;33m\u001b[0m\u001b[0m\n\u001b[0;32m     39\u001b[0m \u001b[1;33m\u001b[0m\u001b[0m\n",
      "\u001b[1;32m~\\anaconda3\\lib\\site-packages\\jax\\config.py\u001b[0m in \u001b[0;36m<module>\u001b[1;34m\u001b[0m\n\u001b[0;32m     16\u001b[0m \u001b[1;33m\u001b[0m\u001b[0m\n\u001b[0;32m     17\u001b[0m \u001b[1;31m# flake8: noqa: F401\u001b[0m\u001b[1;33m\u001b[0m\u001b[1;33m\u001b[0m\u001b[0m\n\u001b[1;32m---> 18\u001b[1;33m \u001b[1;32mfrom\u001b[0m \u001b[0mjax\u001b[0m\u001b[1;33m.\u001b[0m\u001b[0m_src\u001b[0m\u001b[1;33m.\u001b[0m\u001b[0mconfig\u001b[0m \u001b[1;32mimport\u001b[0m \u001b[0mconfig\u001b[0m\u001b[1;33m\u001b[0m\u001b[1;33m\u001b[0m\u001b[0m\n\u001b[0m",
      "\u001b[1;32m~\\anaconda3\\lib\\site-packages\\jax\\_src\\config.py\u001b[0m in \u001b[0;36m<module>\u001b[1;34m\u001b[0m\n\u001b[0;32m     25\u001b[0m \u001b[1;32mimport\u001b[0m \u001b[0mwarnings\u001b[0m\u001b[1;33m\u001b[0m\u001b[1;33m\u001b[0m\u001b[0m\n\u001b[0;32m     26\u001b[0m \u001b[1;33m\u001b[0m\u001b[0m\n\u001b[1;32m---> 27\u001b[1;33m \u001b[1;32mfrom\u001b[0m \u001b[0mjax\u001b[0m\u001b[1;33m.\u001b[0m\u001b[0m_src\u001b[0m \u001b[1;32mimport\u001b[0m \u001b[0mlib\u001b[0m\u001b[1;33m\u001b[0m\u001b[1;33m\u001b[0m\u001b[0m\n\u001b[0m\u001b[0;32m     28\u001b[0m \u001b[1;32mfrom\u001b[0m \u001b[0mjax\u001b[0m\u001b[1;33m.\u001b[0m\u001b[0m_src\u001b[0m\u001b[1;33m.\u001b[0m\u001b[0mlib\u001b[0m \u001b[1;32mimport\u001b[0m \u001b[0mjax_jit\u001b[0m\u001b[1;33m\u001b[0m\u001b[1;33m\u001b[0m\u001b[0m\n\u001b[0;32m     29\u001b[0m \u001b[1;32mfrom\u001b[0m \u001b[0mjax\u001b[0m\u001b[1;33m.\u001b[0m\u001b[0m_src\u001b[0m\u001b[1;33m.\u001b[0m\u001b[0mlib\u001b[0m \u001b[1;32mimport\u001b[0m \u001b[0mtransfer_guard_lib\u001b[0m\u001b[1;33m\u001b[0m\u001b[1;33m\u001b[0m\u001b[0m\n",
      "\u001b[1;32m~\\anaconda3\\lib\\site-packages\\jax\\_src\\lib\\__init__.py\u001b[0m in \u001b[0;36m<module>\u001b[1;34m\u001b[0m\n\u001b[0;32m     52\u001b[0m   \u001b[1;32mimport\u001b[0m \u001b[0mjaxlib\u001b[0m \u001b[1;32mas\u001b[0m \u001b[0mjaxlib\u001b[0m\u001b[1;33m\u001b[0m\u001b[1;33m\u001b[0m\u001b[0m\n\u001b[0;32m     53\u001b[0m \u001b[1;32mexcept\u001b[0m \u001b[0mModuleNotFoundError\u001b[0m \u001b[1;32mas\u001b[0m \u001b[0merr\u001b[0m\u001b[1;33m:\u001b[0m\u001b[1;33m\u001b[0m\u001b[1;33m\u001b[0m\u001b[0m\n\u001b[1;32m---> 54\u001b[1;33m   raise ModuleNotFoundError(\n\u001b[0m\u001b[0;32m     55\u001b[0m     \u001b[1;34m'jax requires jaxlib to be installed. See '\u001b[0m\u001b[1;33m\u001b[0m\u001b[1;33m\u001b[0m\u001b[0m\n\u001b[0;32m     56\u001b[0m     \u001b[1;34m'https://github.com/google/jax#installation for installation instructions.'\u001b[0m\u001b[1;33m\u001b[0m\u001b[1;33m\u001b[0m\u001b[0m\n",
      "\u001b[1;31mModuleNotFoundError\u001b[0m: jax requires jaxlib to be installed. See https://github.com/google/jax#installation for installation instructions."
     ]
    }
   ],
   "source": [
    "import gym\n",
    "import jax\n",
    "import coax\n",
    "import haiku as hk\n",
    "import jax.numpy as jnp\n",
    "from numpy import prod\n",
    "import optax\n",
    "\n",
    "\n",
    "# the name of this script\n",
    "name = 'td3'\n",
    "\n",
    "# the Pendulum MDP\n",
    "env = coax.wrappers.TrainMonitor(env, name=name, tensorboard_dir=f\"./data/tensorboard/{name}\")\n",
    "\n",
    "\n",
    "def func_pi(S, is_training):\n",
    "    seq = hk.Sequential((\n",
    "        hk.Linear(8), jax.nn.relu,\n",
    "        hk.Linear(8), jax.nn.relu,\n",
    "        hk.Linear(8), jax.nn.relu,\n",
    "        hk.Linear(prod(env.action_space.shape), w_init=jnp.zeros),\n",
    "        hk.Reshape(env.action_space.shape),\n",
    "    ))\n",
    "    mu = seq(S)\n",
    "    return {'mu': mu, 'logvar': jnp.full_like(mu, jnp.log(0.05))}  # (almost) deterministic\n",
    "\n",
    "\n",
    "def func_q(S, A, is_training):\n",
    "    seq = hk.Sequential((\n",
    "        hk.Linear(8), jax.nn.relu,\n",
    "        hk.Linear(8), jax.nn.relu,\n",
    "        hk.Linear(8), jax.nn.relu,\n",
    "        hk.Linear(1, w_init=jnp.zeros), jnp.ravel\n",
    "    ))\n",
    "    X = jnp.concatenate((S, A), axis=-1)\n",
    "    return seq(X)\n",
    "\n",
    "\n",
    "# main function approximators\n",
    "pi = coax.Policy(func_pi, env)\n",
    "q1 = coax.Q(func_q, env, action_preprocessor=pi.proba_dist.preprocess_variate)\n",
    "q2 = coax.Q(func_q, env, action_preprocessor=pi.proba_dist.preprocess_variate)\n",
    "\n",
    "\n",
    "# target network\n",
    "q1_targ = q1.copy()\n",
    "q2_targ = q2.copy()\n",
    "pi_targ = pi.copy()\n",
    "\n",
    "\n",
    "# experience tracer\n",
    "tracer = coax.reward_tracing.NStep(n=5, gamma=0.9)\n",
    "buffer = coax.experience_replay.SimpleReplayBuffer(capacity=25000)\n",
    "\n",
    "\n",
    "# updaters\n",
    "qlearning1 = coax.td_learning.ClippedDoubleQLearning(\n",
    "    q1, pi_targ_list=[pi_targ], q_targ_list=[q1_targ, q2_targ],\n",
    "    loss_function=coax.value_losses.mse, optimizer=optax.adam(1e-3))\n",
    "qlearning2 = coax.td_learning.ClippedDoubleQLearning(\n",
    "    q2, pi_targ_list=[pi_targ], q_targ_list=[q1_targ, q2_targ],\n",
    "    loss_function=coax.value_losses.mse, optimizer=optax.adam(1e-3))\n",
    "determ_pg = coax.policy_objectives.DeterministicPG(pi, q1_targ, optimizer=optax.adam(1e-3))\n",
    "\n",
    "\n",
    "# action noise\n",
    "noise = coax.utils.OrnsteinUhlenbeckNoise(mu=0., sigma=0.2, theta=0.15)\n",
    "\n",
    "\n",
    "# train\n",
    "while env.T < 1000000:\n",
    "    s = env.reset()\n",
    "    noise.reset()\n",
    "    noise.sigma *= 0.99  # slowly decrease noise scale\n",
    "\n",
    "    for t in range(env.spec.max_episode_steps):\n",
    "        a = noise(pi.mode(s))\n",
    "        s_next, r, done, info = env.step(a)\n",
    "\n",
    "        # trace rewards and add transition to replay buffer\n",
    "        tracer.add(s, a, r, done)\n",
    "        while tracer:\n",
    "            buffer.add(tracer.pop())\n",
    "\n",
    "        # learn\n",
    "        if len(buffer) >= 5000:\n",
    "            transition_batch = buffer.sample(batch_size=128)\n",
    "\n",
    "            # init metrics dict\n",
    "            metrics = {'OrnsteinUhlenbeckNoise/sigma': noise.sigma}\n",
    "\n",
    "            # flip a coin to decide which of the q-functions to update\n",
    "            qlearning = qlearning1 if jax.random.bernoulli(q1.rng) else qlearning2\n",
    "            metrics.update(qlearning.update(transition_batch))\n",
    "\n",
    "            # delayed policy updates\n",
    "            if env.T >= 7500 and env.T % 4 == 0:\n",
    "                metrics.update(determ_pg.update(transition_batch))\n",
    "\n",
    "            env.record_metrics(metrics)\n",
    "\n",
    "            # sync target networks\n",
    "            q1_targ.soft_update(q1, tau=0.001)\n",
    "            q2_targ.soft_update(q2, tau=0.001)\n",
    "            pi_targ.soft_update(pi, tau=0.001)\n",
    "\n",
    "        if done:\n",
    "            break\n",
    "\n",
    "        s = s_next\n"
   ]
  },
  {
   "cell_type": "code",
   "execution_count": null,
   "id": "d9cde473-6042-427b-b068-50ebee698ed8",
   "metadata": {},
   "outputs": [],
   "source": [
    "env.close()"
   ]
  },
  {
   "cell_type": "code",
   "execution_count": 33,
   "id": "f99e89b3-880b-4efc-bffb-185b02ea31f6",
   "metadata": {},
   "outputs": [
    {
     "name": "stderr",
     "output_type": "stream",
     "text": [
      "[td3|TrainMonitor|INFO] ep: 368,\tT: 55,535,\tG: -925,\tavg_r: -6.16,\tavg_G: -876,\tt: 150,\tdt: 69.633ms\n"
     ]
    }
   ],
   "source": [
    "s = env.reset()\n",
    "s_list = []\n",
    "a_list = []\n",
    "for t in range(env.spec.max_episode_steps):\n",
    "    a = pi(s)\n",
    "    s_next, r, done, info = env.step(a)\n",
    "    s_list += [s_next]\n",
    "    s = s_next\n",
    "   # print(s_next)\n",
    "    \n",
    "    a_list += [a]\n",
    "env.close()\n"
   ]
  },
  {
   "cell_type": "code",
   "execution_count": 32,
   "id": "5f13aa5f-0072-4c7d-a01e-35f7cffb04ed",
   "metadata": {},
   "outputs": [
    {
     "data": {
      "text/plain": [
       "[<matplotlib.lines.Line2D at 0x7f8532201520>]"
      ]
     },
     "execution_count": 32,
     "metadata": {},
     "output_type": "execute_result"
    },
    {
     "data": {
      "image/png": "[encoded data removed]",
      "text/plain": [
       "<Figure size 432x288 with 2 Axes>"
      ]
     },
     "metadata": {
      "needs_background": "light"
     },
     "output_type": "display_data"
    }
   ],
   "source": [
    "\n",
    "import matplotlib.pyplot as plt\n",
    "fig, axes = plt.subplots(nrows=2)\n",
    "axes[0].plot([item[0] for item in  a_list])\n",
    "axes[1].plot([item[2] for item in  s_list])"
   ]
  },
  {
   "cell_type": "code",
   "execution_count": 30,
   "id": "28ec0c53-3fdd-4fac-89ea-66bd8429d21e",
   "metadata": {},
   "outputs": [
    {
     "data": {
      "text/plain": [
       "[<matplotlib.lines.Line2D at 0x7f85329b4c10>]"
      ]
     },
     "execution_count": 30,
     "metadata": {},
     "output_type": "execute_result"
    },
    {
     "data": {
      "image/png": "[encoded data removed]",
      "text/plain": [
       "<Figure size 432x288 with 2 Axes>"
      ]
     },
     "metadata": {
      "needs_background": "light"
     },
     "output_type": "display_data"
    }
   ],
   "source": [
    "fig, axes = plt.subplots(nrows=2)\n",
    "axes[0].plot(env.dae.Time,env.dae.get_values('theta'))\n",
    "axes[1].plot(env.dae.Time,env.dae.get_values('omega'))\n"
   ]
  },
  {
   "cell_type": "code",
   "execution_count": 12,
   "id": "cd7b5e84-9562-4d63-b2e3-88cc9f3a180d",
   "metadata": {},
   "outputs": [],
   "source": [
    "env.close()"
   ]
  },
  {
   "cell_type": "code",
   "execution_count": null,
   "id": "975485c6-0f18-4ebb-9d55-9388d4ddf742",
   "metadata": {},
   "outputs": [],
   "source": [
    "[ 0.66894764 -0.7433095  -0.13705207]\n",
    "[ 0.66894764 -0.7433095  -0.13705207]\n",
    "[ 0.66894764 -0.7433095  -0.13705207]\n",
    "[ 0.66894764 -0.7433095  -0.13705207]\n",
    "[ 0.66894764 -0.7433095  -0.13705207]\n",
    "[ 0.66894764 -0.7433095  -0.13705207]\n",
    "[ 0.66894764 -0.7433095  -0.13705207]\n",
    "[ 0.66894764 -0.7433095  -0.13705207]\n",
    "[ 0.66894764 -0.7433095  -0.13705207]\n",
    "[ 0.66894764 -0.7433095  -0.13705207]\n",
    "[ 0.66894764 -0.7433095  -0.13705207]\n",
    "[ 0.66894764 -0.7433095  -0.13705207]\n",
    "[ 0.66894764 -0.7433095  -0.13705207]\n",
    "[ 0.66894764 -0.7433095  -0.13705207]\n",
    "[ 0.66894764 -0.7433095  -0.13705207]\n",
    "[ 0.66894764 -0.7433095  -0.13705207]\n",
    "[ 0.66894764 -0.7433095  -0.13705207]\n",
    "[ 0.66894764 -0.7433095  -0.13705207]\n",
    "[ 0.66894764 -0.7433095  -0.13705207]\n",
    "[ 0.66894764 -0.7433095  -0.13705207]\n",
    "[ 0.66894764 -0.7433095  -0.13705207]\n",
    "[ 0.66894764 -0.7433095  -0.13705207]\n",
    "[ 0.66894764 -0.7433095  -0.13705207]\n",
    "[ 0.66894764 -0.7433095  -0.13705207]\n",
    "[ 0.66894764 -0.7433095  -0.13705207]\n",
    "[ 0.66894764 -0.7433095  -0.13705207]\n",
    "[ 0.66894764 -0.7433095  -0.13705207]\n",
    "[ 0.66894764 -0.7433095  -0.13705207]\n",
    "[ 0.66894764 -0.7433095  -0.13705207]\n",
    "[ 0.66894764 -0.7433095  -0.13705207]\n",
    "[ 0.66894764 -0.7433095  -0.13705207]\n",
    "[ 0.66894764 -0.7433095  -0.13705207]\n",
    "[ 0.66894764 -0.7433095  -0.13705207]\n",
    "[ 0.66894764 -0.7433095  -0.13705207]\n",
    "[ 0.66894764 -0.7433095  -0.13705207]\n",
    "[ 0.66894764 -0.7433095  -0.13705207]\n",
    "[ 0.66894764 -0.7433095  -0.13705207]\n",
    "[ 0.66894764 -0.7433095  -0.13705207]\n",
    "[ 0.66894764 -0.7433095  -0.13705207]\n",
    "[ 0.66894764 -0.7433095  -0.13705207]\n",
    "[ 0.66894764 -0.7433095  -0.13705207]\n",
    "[ 0.66894764 -0.7433095  -0.13705207]\n",
    "[ 0.66894764 -0.7433095  -0.13705207]\n",
    "[ 0.66894764 -0.7433095  -0.13705207]\n",
    "[ 0.66894764 -0.7433095  -0.13705207]\n",
    "[ 0.66894764 -0.7433095  -0.13705207]\n",
    "[ 0.66894764 -0.7433095  -0.13705207]\n",
    "[ 0.66894764 -0.7433095  -0.13705207]\n",
    "[ 0.66894764 -0.7433095  -0.13705207]\n",
    "[ 0.66894764 -0.7433095  -0.13705207]\n",
    "[ 0.66894764 -0.7433095  -0.13705207]\n",
    "[ 0.66894764 -0.7433095  -0.13705207]\n",
    "[ 0.66894764 -0.7433095  -0.13705207]\n",
    "[ 0.66894764 -0.7433095  -0.13705207]\n",
    "[ 0.66894764 -0.7433095  -0.13705207]\n",
    "[ 0.66894764 -0.7433095  -0.13705207]\n",
    "[ 0.66894764 -0.7433095  -0.13705207]\n",
    "[ 0.66894764 -0.7433095  -0.13705207]\n",
    "[ 0.66894764 -0.7433095  -0.13705207]\n",
    "[ 0.66894764 -0.7433095  -0.13705207]\n",
    "[ 0.66894764 -0.7433095  -0.13705207]\n",
    "[ 0.66894764 -0.7433095  -0.13705207]\n",
    "[ 0.66894764 -0.7433095  -0.13705207]\n",
    "[ 0.66894764 -0.7433095  -0.13705207]\n",
    "[ 0.66894764 -0.7433095  -0.13705207]\n",
    "[ 0.66894764 -0.7433095  -0.13705207]\n",
    "[ 0.66894764 -0.7433095  -0.13705207]\n",
    "[ 0.66894764 -0.7433095  -0.13705207]\n",
    "[ 0.66894764 -0.7433095  -0.13705207]\n",
    "[ 0.66894764 -0.7433095  -0.13705207]\n",
    "[ 0.66894764 -0.7433095  -0.13705207]\n",
    "[ 0.66894764 -0.7433095  -0.13705207]\n",
    "[ 0.66894764 -0.7433095  -0.13705207]\n",
    "[ 0.66894764 -0.7433095  -0.13705207]\n",
    "[ 0.66894764 -0.7433095  -0.13705207]\n",
    "[ 0.66894764 -0.7433095  -0.13705207]\n",
    "[ 0.66894764 -0.7433095  -0.13705207]\n",
    "[ 0.66894764 -0.7433095  -0.13705207]\n",
    "[ 0.66894764 -0.7433095  -0.13705207]\n",
    "[ 0.66894764 -0.7433095  -0.13705207]\n",
    "[ 0.66894764 -0.7433095  -0.13705207]\n",
    "[ 0.66894764 -0.7433095  -0.13705207]\n",
    "[ 0.66894764 -0.7433095  -0.13705207]\n",
    "[ 0.66894764 -0.7433095  -0.13705207]\n",
    "[ 0.66894764 -0.7433095  -0.13705207]\n",
    "[ 0.66894764 -0.7433095  -0.13705207]\n",
    "[ 0.66894764 -0.7433095  -0.13705207]\n",
    "[ 0.66894764 -0.7433095  -0.13705207]\n",
    "[ 0.66894764 -0.7433095  -0.13705207]\n",
    "[ 0.66894764 -0.7433095  -0.13705207]\n",
    "[ 0.66894764 -0.7433095  -0.13705207]\n",
    "[ 0.66894764 -0.7433095  -0.13705207]\n",
    "[ 0.66894764 -0.7433095  -0.13705207]\n",
    "[ 0.66894764 -0.7433095  -0.13705207]\n",
    "[ 0.66894764 -0.7433095  -0.13705207]\n",
    "[ 0.66894764 -0.7433095  -0.13705207]\n",
    "[ 0.66894764 -0.7433095  -0.13705207]\n",
    "[ 0.66894764 -0.7433095  -0.13705207]\n",
    "[ 0.66894764 -0.7433095  -0.13705207]\n",
    "[ 0.66894764 -0.7433095  -0.13705207]\n",
    "[ 0.66894764 -0.7433095  -0.13705207]\n",
    "[ 0.66894764 -0.7433095  -0.13705207]\n",
    "[ 0.66894764 -0.7433095  -0.13705207]\n",
    "[ 0.66894764 -0.7433095  -0.13705207]\n",
    "[ 0.66894764 -0.7433095  -0.13705207]\n",
    "[ 0.66894764 -0.7433095  -0.13705207]\n",
    "[ 0.66894764 -0.7433095  -0.13705207]\n",
    "[ 0.66894764 -0.7433095  -0.13705207]"
   ]
  }
 ],
 "metadata": {
  "kernelspec": {
   "display_name": "Python 3 (ipykernel)",
   "language": "python",
   "name": "python3"
  },
  "language_info": {
   "codemirror_mode": {
    "name": "ipython",
    "version": 3
   },
   "file_extension": ".py",
   "mimetype": "text/x-python",
   "name": "python",
   "nbconvert_exporter": "python",
   "pygments_lexer": "ipython3",
   "version": "3.9.7"
  }
 },
 "nbformat": 4,
 "nbformat_minor": 5
}

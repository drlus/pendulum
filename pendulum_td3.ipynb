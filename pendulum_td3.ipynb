{
 "cells": [
  {
   "cell_type": "code",
   "execution_count": 2,
   "id": "477916c3-0b81-4728-8af1-92b07e9c40c3",
   "metadata": {},
   "outputs": [],
   "source": [
    "import gym\n",
    "import numpy as np"
   ]
  },
  {
   "cell_type": "code",
   "execution_count": 8,
   "id": "d6d3dd60-90e1-4cbd-8804-8aed9ef5b5c2",
   "metadata": {},
   "outputs": [],
   "source": [
    "gym.envs.register(\n",
    "     id='PendulumDAE-v1',\n",
    "     entry_point='pendulum.envs:PendulumDAEEnv',\n",
    "     max_episode_steps=150\n",
    ")\n",
    "env = gym.make('PendulumDAE-v1')\n",
    "#import pendulum\n",
    "#env = gym.make('PendulumDAE-v0')"
   ]
  },
  {
   "cell_type": "code",
   "execution_count": 9,
   "id": "c71903fd-a5c7-4a79-af08-fa46ca8b1369",
   "metadata": {},
   "outputs": [
    {
     "data": {
      "text/plain": [
       "array([-0.8263105 , -0.56321484,  0.15005665], dtype=float32)"
      ]
     },
     "execution_count": 9,
     "metadata": {},
     "output_type": "execute_result"
    }
   ],
   "source": [
    "env.reset()"
   ]
  },
  {
   "cell_type": "code",
   "execution_count": 10,
   "id": "c169e9d4-6642-4ae0-9bdc-99aeef3dff85",
   "metadata": {},
   "outputs": [
    {
     "data": {
      "text/plain": [
       "(array([-0.8280343 , -0.56067747, -0.27245143], dtype=float32),\n",
       " -6.4707354997473745,\n",
       " False,\n",
       " {})"
      ]
     },
     "execution_count": 10,
     "metadata": {},
     "output_type": "execute_result"
    }
   ],
   "source": [
    "env.step(np.array([0]))"
   ]
  },
  {
   "cell_type": "code",
   "execution_count": 11,
   "id": "93b425f7-8640-4a32-b37f-732ce02eab6e",
   "metadata": {},
   "outputs": [
    {
     "data": {
      "text/plain": [
       "(array([-0.84517604, -0.5344881 , -0.7671252 ], dtype=float32),\n",
       " -6.4915193647552965,\n",
       " False,\n",
       " {})"
      ]
     },
     "execution_count": 11,
     "metadata": {},
     "output_type": "execute_result"
    }
   ],
   "source": [
    "env.step(np.array([0]))"
   ]
  },
  {
   "cell_type": "code",
   "execution_count": 12,
   "id": "0366978a-5412-41de-bc74-2f122db5d2e3",
   "metadata": {},
   "outputs": [
    {
     "name": "stderr",
     "output_type": "stream",
     "text": [
      "[td3|TrainMonitor|INFO] ep: 1,\tT: 151,\tG: -838,\tavg_r: -5.58,\tavg_G: -838,\tt: 150,\tdt: 12.163ms\n",
      "[td3|TrainMonitor|INFO] ep: 2,\tT: 302,\tG: -957,\tavg_r: -6.38,\tavg_G: -897,\tt: 150,\tdt: 8.223ms\n",
      "[td3|TrainMonitor|INFO] ep: 3,\tT: 453,\tG: -768,\tavg_r: -5.12,\tavg_G: -854,\tt: 150,\tdt: 7.683ms\n",
      "[td3|TrainMonitor|INFO] ep: 4,\tT: 604,\tG: -1.11e+03,\tavg_r: -7.42,\tavg_G: -919,\tt: 150,\tdt: 6.696ms\n",
      "[td3|TrainMonitor|INFO] ep: 5,\tT: 755,\tG: -723,\tavg_r: -4.82,\tavg_G: -880,\tt: 150,\tdt: 11.576ms\n",
      "[td3|TrainMonitor|INFO] ep: 6,\tT: 906,\tG: -1.23e+03,\tavg_r: -8.23,\tavg_G: -939,\tt: 150,\tdt: 6.960ms\n",
      "[td3|TrainMonitor|INFO] ep: 7,\tT: 1,057,\tG: -955,\tavg_r: -6.36,\tavg_G: -941,\tt: 150,\tdt: 5.940ms\n",
      "[td3|TrainMonitor|INFO] ep: 8,\tT: 1,208,\tG: -710,\tavg_r: -4.73,\tavg_G: -912,\tt: 150,\tdt: 6.087ms\n",
      "[td3|TrainMonitor|INFO] ep: 9,\tT: 1,359,\tG: -764,\tavg_r: -5.09,\tavg_G: -896,\tt: 150,\tdt: 6.426ms\n",
      "[td3|TrainMonitor|INFO] ep: 10,\tT: 1,510,\tG: -849,\tavg_r: -5.66,\tavg_G: -891,\tt: 150,\tdt: 4.841ms\n",
      "[td3|TrainMonitor|INFO] ep: 11,\tT: 1,661,\tG: -1.34e+03,\tavg_r: -8.96,\tavg_G: -936,\tt: 150,\tdt: 6.576ms\n",
      "[td3|TrainMonitor|INFO] ep: 12,\tT: 1,812,\tG: -995,\tavg_r: -6.63,\tavg_G: -942,\tt: 150,\tdt: 7.093ms\n",
      "[td3|TrainMonitor|INFO] ep: 13,\tT: 1,963,\tG: -729,\tavg_r: -4.86,\tavg_G: -921,\tt: 150,\tdt: 8.227ms\n",
      "[td3|TrainMonitor|INFO] ep: 14,\tT: 2,114,\tG: -928,\tavg_r: -6.19,\tavg_G: -922,\tt: 150,\tdt: 7.304ms\n",
      "[td3|TrainMonitor|INFO] ep: 15,\tT: 2,265,\tG: -829,\tavg_r: -5.52,\tavg_G: -912,\tt: 150,\tdt: 8.465ms\n",
      "[td3|TrainMonitor|INFO] ep: 16,\tT: 2,416,\tG: -769,\tavg_r: -5.13,\tavg_G: -898,\tt: 150,\tdt: 9.839ms\n",
      "[td3|TrainMonitor|INFO] ep: 17,\tT: 2,567,\tG: -1.09e+03,\tavg_r: -7.25,\tavg_G: -917,\tt: 150,\tdt: 7.611ms\n",
      "[td3|TrainMonitor|INFO] ep: 18,\tT: 2,718,\tG: -729,\tavg_r: -4.86,\tavg_G: -898,\tt: 150,\tdt: 7.291ms\n",
      "[td3|TrainMonitor|INFO] ep: 19,\tT: 2,869,\tG: -1.38e+03,\tavg_r: -9.2,\tavg_G: -946,\tt: 150,\tdt: 9.960ms\n",
      "[td3|TrainMonitor|INFO] ep: 20,\tT: 3,020,\tG: -1.24e+03,\tavg_r: -8.24,\tavg_G: -975,\tt: 150,\tdt: 9.620ms\n",
      "[td3|TrainMonitor|INFO] ep: 21,\tT: 3,171,\tG: -658,\tavg_r: -4.39,\tavg_G: -944,\tt: 150,\tdt: 7.129ms\n",
      "[td3|TrainMonitor|INFO] ep: 22,\tT: 3,322,\tG: -1.05e+03,\tavg_r: -6.97,\tavg_G: -954,\tt: 150,\tdt: 7.431ms\n",
      "[td3|TrainMonitor|INFO] ep: 23,\tT: 3,473,\tG: -631,\tavg_r: -4.2,\tavg_G: -922,\tt: 150,\tdt: 7.013ms\n",
      "[td3|TrainMonitor|INFO] ep: 24,\tT: 3,624,\tG: -1.01e+03,\tavg_r: -6.71,\tavg_G: -930,\tt: 150,\tdt: 8.322ms\n"
     ]
    },
    {
     "ename": "KeyboardInterrupt",
     "evalue": "",
     "output_type": "error",
     "traceback": [
      "\u001b[0;31m---------------------------------------------------------------------------\u001b[0m",
      "\u001b[0;31mKeyboardInterrupt\u001b[0m                         Traceback (most recent call last)",
      "Input \u001b[0;32mIn [12]\u001b[0m, in \u001b[0;36m<cell line: 72>\u001b[0;34m()\u001b[0m\n\u001b[1;32m     75\u001b[0m noise\u001b[38;5;241m.\u001b[39msigma \u001b[38;5;241m*\u001b[39m\u001b[38;5;241m=\u001b[39m \u001b[38;5;241m0.99\u001b[39m  \u001b[38;5;66;03m# slowly decrease noise scale\u001b[39;00m\n\u001b[1;32m     77\u001b[0m \u001b[38;5;28;01mfor\u001b[39;00m t \u001b[38;5;129;01min\u001b[39;00m \u001b[38;5;28mrange\u001b[39m(env\u001b[38;5;241m.\u001b[39mspec\u001b[38;5;241m.\u001b[39mmax_episode_steps):\n\u001b[0;32m---> 78\u001b[0m     a \u001b[38;5;241m=\u001b[39m noise(\u001b[43mpi\u001b[49m\u001b[38;5;241;43m.\u001b[39;49m\u001b[43mmode\u001b[49m\u001b[43m(\u001b[49m\u001b[43ms\u001b[49m\u001b[43m)\u001b[49m)\n\u001b[1;32m     79\u001b[0m     s_next, r, done, info \u001b[38;5;241m=\u001b[39m env\u001b[38;5;241m.\u001b[39mstep(a)\n\u001b[1;32m     81\u001b[0m     \u001b[38;5;66;03m# trace rewards and add transition to replay buffer\u001b[39;00m\n",
      "File \u001b[0;32m/opt/conda/lib/python3.9/site-packages/coax/_core/policy.py:128\u001b[0m, in \u001b[0;36mPolicy.mode\u001b[0;34m(self, s)\u001b[0m\n\u001b[1;32m    110\u001b[0m \u001b[38;5;28;01mdef\u001b[39;00m \u001b[38;5;21mmode\u001b[39m(\u001b[38;5;28mself\u001b[39m, s):\n\u001b[1;32m    111\u001b[0m     \u001b[38;5;124mr\u001b[39m\u001b[38;5;124;03m\"\"\"\u001b[39;00m\n\u001b[1;32m    112\u001b[0m \n\u001b[1;32m    113\u001b[0m \u001b[38;5;124;03m    Sample a greedy action :math:`a=\\arg\\max_a\\pi_\\theta(a|s)`.\u001b[39;00m\n\u001b[0;32m   (...)\u001b[0m\n\u001b[1;32m    126\u001b[0m \n\u001b[1;32m    127\u001b[0m \u001b[38;5;124;03m    \"\"\"\u001b[39;00m\n\u001b[0;32m--> 128\u001b[0m     \u001b[38;5;28;01mreturn\u001b[39;00m \u001b[38;5;28;43msuper\u001b[39;49m\u001b[43m(\u001b[49m\u001b[43m)\u001b[49m\u001b[38;5;241;43m.\u001b[39;49m\u001b[43mmode\u001b[49m\u001b[43m(\u001b[49m\u001b[43ms\u001b[49m\u001b[43m)\u001b[49m\n",
      "File \u001b[0;32m/opt/conda/lib/python3.9/site-packages/coax/_core/base_stochastic_func_type2.py:43\u001b[0m, in \u001b[0;36mStochasticFuncType2Mixin.mode\u001b[0;34m(self, s)\u001b[0m\n\u001b[1;32m     42\u001b[0m \u001b[38;5;28;01mdef\u001b[39;00m \u001b[38;5;21mmode\u001b[39m(\u001b[38;5;28mself\u001b[39m, s):\n\u001b[0;32m---> 43\u001b[0m     S \u001b[38;5;241m=\u001b[39m \u001b[38;5;28mself\u001b[39m\u001b[38;5;241m.\u001b[39mobservation_preprocessor(\u001b[38;5;28;43mself\u001b[39;49m\u001b[38;5;241;43m.\u001b[39;49m\u001b[43mrng\u001b[49m, s)\n\u001b[1;32m     44\u001b[0m     X \u001b[38;5;241m=\u001b[39m \u001b[38;5;28mself\u001b[39m\u001b[38;5;241m.\u001b[39mmode_func(\u001b[38;5;28mself\u001b[39m\u001b[38;5;241m.\u001b[39mparams, \u001b[38;5;28mself\u001b[39m\u001b[38;5;241m.\u001b[39mfunction_state, \u001b[38;5;28mself\u001b[39m\u001b[38;5;241m.\u001b[39mrng, S)\n\u001b[1;32m     45\u001b[0m     x \u001b[38;5;241m=\u001b[39m \u001b[38;5;28mself\u001b[39m\u001b[38;5;241m.\u001b[39mproba_dist\u001b[38;5;241m.\u001b[39mpostprocess_variate(\u001b[38;5;28mself\u001b[39m\u001b[38;5;241m.\u001b[39mrng, X)\n",
      "File \u001b[0;32m/opt/conda/lib/python3.9/site-packages/coax/_base/mixins/_random_state.py:19\u001b[0m, in \u001b[0;36mRandomStateMixin.rng\u001b[0;34m(self)\u001b[0m\n\u001b[1;32m     17\u001b[0m \u001b[38;5;129m@property\u001b[39m\n\u001b[1;32m     18\u001b[0m \u001b[38;5;28;01mdef\u001b[39;00m \u001b[38;5;21mrng\u001b[39m(\u001b[38;5;28mself\u001b[39m):\n\u001b[0;32m---> 19\u001b[0m     \u001b[38;5;28mself\u001b[39m\u001b[38;5;241m.\u001b[39m_random_key, key \u001b[38;5;241m=\u001b[39m \u001b[43mjax\u001b[49m\u001b[38;5;241;43m.\u001b[39;49m\u001b[43mrandom\u001b[49m\u001b[38;5;241;43m.\u001b[39;49m\u001b[43msplit\u001b[49m\u001b[43m(\u001b[49m\u001b[38;5;28;43mself\u001b[39;49m\u001b[38;5;241;43m.\u001b[39;49m\u001b[43m_random_key\u001b[49m\u001b[43m)\u001b[49m\n\u001b[1;32m     20\u001b[0m     \u001b[38;5;28;01mreturn\u001b[39;00m key\n",
      "File \u001b[0;32m/opt/conda/lib/python3.9/site-packages/jax/_src/random.py:194\u001b[0m, in \u001b[0;36msplit\u001b[0;34m(key, num)\u001b[0m\n\u001b[1;32m    183\u001b[0m \u001b[38;5;124;03m\"\"\"Splits a PRNG key into `num` new keys by adding a leading axis.\u001b[39;00m\n\u001b[1;32m    184\u001b[0m \n\u001b[1;32m    185\u001b[0m \u001b[38;5;124;03mArgs:\u001b[39;00m\n\u001b[0;32m   (...)\u001b[0m\n\u001b[1;32m    191\u001b[0m \u001b[38;5;124;03m  An array-like object of `num` new PRNG keys.\u001b[39;00m\n\u001b[1;32m    192\u001b[0m \u001b[38;5;124;03m\"\"\"\u001b[39;00m\n\u001b[1;32m    193\u001b[0m key, wrapped \u001b[38;5;241m=\u001b[39m _check_prng_key(key)\n\u001b[0;32m--> 194\u001b[0m \u001b[38;5;28;01mreturn\u001b[39;00m _return_prng_keys(wrapped, \u001b[43m_split\u001b[49m\u001b[43m(\u001b[49m\u001b[43mkey\u001b[49m\u001b[43m,\u001b[49m\u001b[43m \u001b[49m\u001b[43mnum\u001b[49m\u001b[43m)\u001b[49m)\n",
      "File \u001b[0;32m/opt/conda/lib/python3.9/site-packages/jax/_src/random.py:180\u001b[0m, in \u001b[0;36m_split\u001b[0;34m(key, num)\u001b[0m\n\u001b[1;32m    177\u001b[0m \u001b[38;5;28;01mdef\u001b[39;00m \u001b[38;5;21m_split\u001b[39m(key: KeyArray, num: \u001b[38;5;28mint\u001b[39m \u001b[38;5;241m=\u001b[39m \u001b[38;5;241m2\u001b[39m) \u001b[38;5;241m-\u001b[39m\u001b[38;5;241m>\u001b[39m KeyArray:\n\u001b[1;32m    178\u001b[0m   \u001b[38;5;66;03m# Alternative to split() to use within random samplers.\u001b[39;00m\n\u001b[1;32m    179\u001b[0m   \u001b[38;5;66;03m# TODO(frostig): remove and use split() once we always enable_custom_prng\u001b[39;00m\n\u001b[0;32m--> 180\u001b[0m   \u001b[38;5;28;01mreturn\u001b[39;00m \u001b[43mkey\u001b[49m\u001b[38;5;241;43m.\u001b[39;49m\u001b[43m_split\u001b[49m\u001b[43m(\u001b[49m\u001b[43mnum\u001b[49m\u001b[43m)\u001b[49m\n",
      "File \u001b[0;32m/opt/conda/lib/python3.9/site-packages/jax/_src/prng.py:201\u001b[0m, in \u001b[0;36mPRNGKeyArray._split\u001b[0;34m(self, num)\u001b[0m\n\u001b[1;32m    200\u001b[0m \u001b[38;5;28;01mdef\u001b[39;00m \u001b[38;5;21m_split\u001b[39m(\u001b[38;5;28mself\u001b[39m, num: \u001b[38;5;28mint\u001b[39m) \u001b[38;5;241m-\u001b[39m\u001b[38;5;241m>\u001b[39m \u001b[38;5;124m'\u001b[39m\u001b[38;5;124mPRNGKeyArray\u001b[39m\u001b[38;5;124m'\u001b[39m:\n\u001b[0;32m--> 201\u001b[0m   \u001b[38;5;28;01mreturn\u001b[39;00m \u001b[43mPRNGKeyArray\u001b[49m\u001b[43m(\u001b[49m\u001b[38;5;28;43mself\u001b[39;49m\u001b[38;5;241;43m.\u001b[39;49m\u001b[43mimpl\u001b[49m\u001b[43m,\u001b[49m\u001b[43m \u001b[49m\u001b[38;5;28;43mself\u001b[39;49m\u001b[38;5;241;43m.\u001b[39;49m\u001b[43mimpl\u001b[49m\u001b[38;5;241;43m.\u001b[39;49m\u001b[43msplit\u001b[49m\u001b[43m(\u001b[49m\u001b[38;5;28;43mself\u001b[39;49m\u001b[38;5;241;43m.\u001b[39;49m\u001b[43m_keys\u001b[49m\u001b[43m,\u001b[49m\u001b[43m \u001b[49m\u001b[43mnum\u001b[49m\u001b[43m)\u001b[49m\u001b[43m)\u001b[49m\n",
      "File \u001b[0;32m/opt/conda/lib/python3.9/site-packages/jax/_src/prng.py:120\u001b[0m, in \u001b[0;36mPRNGKeyArray.__init__\u001b[0;34m(self, impl, key_data)\u001b[0m\n\u001b[1;32m    116\u001b[0m \u001b[38;5;28;01mdef\u001b[39;00m \u001b[38;5;21m__init__\u001b[39m(\u001b[38;5;28mself\u001b[39m, impl, key_data: jnp\u001b[38;5;241m.\u001b[39mndarray):\n\u001b[1;32m    117\u001b[0m   \u001b[38;5;66;03m# key_data might be a placeholder python `object` or `bool`\u001b[39;00m\n\u001b[1;32m    118\u001b[0m   \u001b[38;5;66;03m# instead of a jnp.ndarray due to tree_unflatten\u001b[39;00m\n\u001b[1;32m    119\u001b[0m   \u001b[38;5;28;01mif\u001b[39;00m \u001b[38;5;28mtype\u001b[39m(key_data) \u001b[38;5;129;01mnot\u001b[39;00m \u001b[38;5;129;01min\u001b[39;00m [\u001b[38;5;28mobject\u001b[39m, \u001b[38;5;28mbool\u001b[39m]:\n\u001b[0;32m--> 120\u001b[0m     \u001b[43m_check_prng_key_data\u001b[49m\u001b[43m(\u001b[49m\u001b[43mimpl\u001b[49m\u001b[43m,\u001b[49m\u001b[43m \u001b[49m\u001b[43mkey_data\u001b[49m\u001b[43m)\u001b[49m\n\u001b[1;32m    121\u001b[0m   \u001b[38;5;28mself\u001b[39m\u001b[38;5;241m.\u001b[39mimpl \u001b[38;5;241m=\u001b[39m impl\n\u001b[1;32m    122\u001b[0m   \u001b[38;5;28mself\u001b[39m\u001b[38;5;241m.\u001b[39m_keys \u001b[38;5;241m=\u001b[39m key_data\n",
      "File \u001b[0;32m/opt/conda/lib/python3.9/site-packages/jax/_src/prng.py:84\u001b[0m, in \u001b[0;36m_check_prng_key_data\u001b[0;34m(impl, key_data)\u001b[0m\n\u001b[1;32m     82\u001b[0m \u001b[38;5;28;01mdef\u001b[39;00m \u001b[38;5;21m_check_prng_key_data\u001b[39m(impl, key_data: jnp\u001b[38;5;241m.\u001b[39mndarray):\n\u001b[1;32m     83\u001b[0m   ndim \u001b[38;5;241m=\u001b[39m \u001b[38;5;28mlen\u001b[39m(impl\u001b[38;5;241m.\u001b[39mkey_shape)\n\u001b[0;32m---> 84\u001b[0m   \u001b[38;5;28;01mif\u001b[39;00m \u001b[38;5;129;01mnot\u001b[39;00m \u001b[38;5;28mall\u001b[39m(\u001b[38;5;28mhasattr\u001b[39m(key_data, attr) \u001b[38;5;28;01mfor\u001b[39;00m attr \u001b[38;5;129;01min\u001b[39;00m [\u001b[38;5;124m'\u001b[39m\u001b[38;5;124mndim\u001b[39m\u001b[38;5;124m'\u001b[39m, \u001b[38;5;124m'\u001b[39m\u001b[38;5;124mshape\u001b[39m\u001b[38;5;124m'\u001b[39m, \u001b[38;5;124m'\u001b[39m\u001b[38;5;124mdtype\u001b[39m\u001b[38;5;124m'\u001b[39m]):\n\u001b[1;32m     85\u001b[0m     \u001b[38;5;28;01mraise\u001b[39;00m \u001b[38;5;167;01mTypeError\u001b[39;00m(\u001b[38;5;124m\"\u001b[39m\u001b[38;5;124mJAX encountered invalid PRNG key data: expected key_data \u001b[39m\u001b[38;5;124m\"\u001b[39m\n\u001b[1;32m     86\u001b[0m                     \u001b[38;5;124mf\u001b[39m\u001b[38;5;124m\"\u001b[39m\u001b[38;5;124mto have ndim, shape, and dtype attributes. Got \u001b[39m\u001b[38;5;132;01m{\u001b[39;00mkey_data\u001b[38;5;132;01m}\u001b[39;00m\u001b[38;5;124m\"\u001b[39m)\n\u001b[1;32m     87\u001b[0m   \u001b[38;5;28;01mif\u001b[39;00m key_data\u001b[38;5;241m.\u001b[39mndim \u001b[38;5;241m<\u001b[39m \u001b[38;5;241m1\u001b[39m:\n",
      "\u001b[0;31mKeyboardInterrupt\u001b[0m: "
     ]
    }
   ],
   "source": [
    "import gym\n",
    "import jax\n",
    "import coax\n",
    "import haiku as hk\n",
    "import jax.numpy as jnp\n",
    "from numpy import prod\n",
    "import optax\n",
    "\n",
    "\n",
    "# the name of this script\n",
    "name = 'td3'\n",
    "\n",
    "# the Pendulum MDP\n",
    "env = coax.wrappers.TrainMonitor(env, name=name, tensorboard_dir=f\"./data/tensorboard/{name}\")\n",
    "\n",
    "\n",
    "def func_pi(S, is_training):\n",
    "    seq = hk.Sequential((\n",
    "        hk.Linear(8), jax.nn.relu,\n",
    "        hk.Linear(8), jax.nn.relu,\n",
    "        hk.Linear(8), jax.nn.relu,\n",
    "        hk.Linear(prod(env.action_space.shape), w_init=jnp.zeros),\n",
    "        hk.Reshape(env.action_space.shape),\n",
    "    ))\n",
    "    mu = seq(S)\n",
    "    return {'mu': mu, 'logvar': jnp.full_like(mu, jnp.log(0.05))}  # (almost) deterministic\n",
    "\n",
    "\n",
    "def func_q(S, A, is_training):\n",
    "    seq = hk.Sequential((\n",
    "        hk.Linear(8), jax.nn.relu,\n",
    "        hk.Linear(8), jax.nn.relu,\n",
    "        hk.Linear(8), jax.nn.relu,\n",
    "        hk.Linear(1, w_init=jnp.zeros), jnp.ravel\n",
    "    ))\n",
    "    X = jnp.concatenate((S, A), axis=-1)\n",
    "    return seq(X)\n",
    "\n",
    "\n",
    "# main function approximators\n",
    "pi = coax.Policy(func_pi, env)\n",
    "q1 = coax.Q(func_q, env, action_preprocessor=pi.proba_dist.preprocess_variate)\n",
    "q2 = coax.Q(func_q, env, action_preprocessor=pi.proba_dist.preprocess_variate)\n",
    "\n",
    "\n",
    "# target network\n",
    "q1_targ = q1.copy()\n",
    "q2_targ = q2.copy()\n",
    "pi_targ = pi.copy()\n",
    "\n",
    "\n",
    "# experience tracer\n",
    "tracer = coax.reward_tracing.NStep(n=5, gamma=0.9)\n",
    "buffer = coax.experience_replay.SimpleReplayBuffer(capacity=25000)\n",
    "\n",
    "\n",
    "# updaters\n",
    "qlearning1 = coax.td_learning.ClippedDoubleQLearning(\n",
    "    q1, pi_targ_list=[pi_targ], q_targ_list=[q1_targ, q2_targ],\n",
    "    loss_function=coax.value_losses.mse, optimizer=optax.adam(1e-3))\n",
    "qlearning2 = coax.td_learning.ClippedDoubleQLearning(\n",
    "    q2, pi_targ_list=[pi_targ], q_targ_list=[q1_targ, q2_targ],\n",
    "    loss_function=coax.value_losses.mse, optimizer=optax.adam(1e-3))\n",
    "determ_pg = coax.policy_objectives.DeterministicPG(pi, q1_targ, optimizer=optax.adam(1e-3))\n",
    "\n",
    "\n",
    "# action noise\n",
    "noise = coax.utils.OrnsteinUhlenbeckNoise(mu=0., sigma=0.2, theta=0.15)\n",
    "\n",
    "\n",
    "# train\n",
    "while env.T < 1000000:\n",
    "    s = env.reset()\n",
    "    noise.reset()\n",
    "    noise.sigma *= 0.99  # slowly decrease noise scale\n",
    "\n",
    "    for t in range(env.spec.max_episode_steps):\n",
    "        a = noise(pi.mode(s))\n",
    "        s_next, r, done, info = env.step(a)\n",
    "\n",
    "        # trace rewards and add transition to replay buffer\n",
    "        tracer.add(s, a, r, done)\n",
    "        while tracer:\n",
    "            buffer.add(tracer.pop())\n",
    "\n",
    "        # learn\n",
    "        if len(buffer) >= 5000:\n",
    "            transition_batch = buffer.sample(batch_size=128)\n",
    "\n",
    "            # init metrics dict\n",
    "            metrics = {'OrnsteinUhlenbeckNoise/sigma': noise.sigma}\n",
    "\n",
    "            # flip a coin to decide which of the q-functions to update\n",
    "            qlearning = qlearning1 if jax.random.bernoulli(q1.rng) else qlearning2\n",
    "            metrics.update(qlearning.update(transition_batch))\n",
    "\n",
    "            # delayed policy updates\n",
    "            if env.T >= 7500 and env.T % 4 == 0:\n",
    "                metrics.update(determ_pg.update(transition_batch))\n",
    "\n",
    "            env.record_metrics(metrics)\n",
    "\n",
    "            # sync target networks\n",
    "            q1_targ.soft_update(q1, tau=0.001)\n",
    "            q2_targ.soft_update(q2, tau=0.001)\n",
    "            pi_targ.soft_update(pi, tau=0.001)\n",
    "\n",
    "        if done:\n",
    "            break\n",
    "\n",
    "        s = s_next\n"
   ]
  },
  {
   "cell_type": "code",
   "execution_count": null,
   "id": "d9cde473-6042-427b-b068-50ebee698ed8",
   "metadata": {},
   "outputs": [],
   "source": [
    "env.close()"
   ]
  },
  {
   "cell_type": "code",
   "execution_count": 13,
   "id": "f99e89b3-880b-4efc-bffb-185b02ea31f6",
   "metadata": {},
   "outputs": [
    {
     "name": "stderr",
     "output_type": "stream",
     "text": [
      "[td3|TrainMonitor|INFO] ep: 25,\tT: 3,670,\tG: -239,\tavg_r: -5.31,\tavg_G: -930,\tt: 45,\tdt: 250.772ms\n"
     ]
    }
   ],
   "source": [
    "s = env.reset()\n",
    "s_list = []\n",
    "a_list = []\n",
    "for t in range(env.spec.max_episode_steps):\n",
    "    a = pi(s)\n",
    "    s_next, r, done, info = env.step(a)\n",
    "    s_list += [s_next]\n",
    "    s = s_next\n",
    "   # print(s_next)\n",
    "    \n",
    "    a_list += [a]\n"
   ]
  },
  {
   "cell_type": "code",
   "execution_count": 14,
   "id": "5f13aa5f-0072-4c7d-a01e-35f7cffb04ed",
   "metadata": {},
   "outputs": [
    {
     "data": {
      "text/plain": [
       "[<matplotlib.lines.Line2D at 0x7fcc425f1550>]"
      ]
     },
     "execution_count": 14,
     "metadata": {},
     "output_type": "execute_result"
    },
    {
     "data": {
      "image/png": "[encoded data removed]",
      "text/plain": [
       "<Figure size 432x288 with 2 Axes>"
      ]
     },
     "metadata": {
      "needs_background": "light"
     },
     "output_type": "display_data"
    }
   ],
   "source": [
    "\n",
    "import matplotlib.pyplot as plt\n",
    "fig, axes = plt.subplots(nrows=2)\n",
    "axes[0].plot([item[0] for item in  a_list])\n",
    "axes[1].plot([item[2] for item in  s_list])"
   ]
  }
 ],
 "metadata": {
  "kernelspec": {
   "display_name": "Python 3 (ipykernel)",
   "language": "python",
   "name": "python3"
  },
  "language_info": {
   "codemirror_mode": {
    "name": "ipython",
    "version": 3
   },
   "file_extension": ".py",
   "mimetype": "text/x-python",
   "name": "python",
   "nbconvert_exporter": "python",
   "pygments_lexer": "ipython3",
   "version": "3.9.10"
  }
 },
 "nbformat": 4,
 "nbformat_minor": 5
}
